{
  "cells": [
    {
      "cell_type": "code",
      "execution_count": 2,
      "metadata": {
        "id": "eLx55oPDl9Q4",
        "colab": {
          "base_uri": "https://localhost:8080/"
        },
        "outputId": "1d7a05b7-f706-4786-868f-aa9282f16638"
      },
      "outputs": [
        {
          "output_type": "stream",
          "name": "stdout",
          "text": [
            "Mounted at /content/drive\n"
          ]
        }
      ],
      "source": [
        "import os\n",
        "import pandas as pd\n",
        "import torch\n",
        "import numpy as np\n",
        "from sklearn.model_selection import train_test_split\n",
        "from torchvision import datasets, transforms\n",
        "import torch.nn as nn\n",
        "from torchvision import models\n",
        "from torch.utils.data import DataLoader\n",
        "import torch.optim as optim\n",
        "import time\n",
        "import copy\n",
        "from google.colab import drive\n",
        "drive.mount('/content/drive')\n",
        "\n",
        "# Путь к папке с изображениями\n",
        "data_train = '/content/drive/MyDrive/farf_data/data/train/'\n",
        "data_val = '/content/drive/MyDrive/farf_data/data/val/'\n",
        "data_test = '/content/drive/MyDrive/farf_data/data/test/'\n",
        "\n",
        "\n",
        "# Аугментации данных\n",
        "train_transforms = transforms.Compose([\n",
        "    transforms.RandomResizedCrop(224),\n",
        "    transforms.RandomHorizontalFlip(),\n",
        "    transforms.RandomRotation(15),\n",
        "    transforms.ColorJitter(),\n",
        "    transforms.ToTensor(),\n",
        "    transforms.Normalize([0.485, 0.456, 0.406], [0.229, 0.224, 0.225])\n",
        "])\n",
        "\n",
        "val_transforms = transforms.Compose([\n",
        "    transforms.Resize(256),\n",
        "    transforms.CenterCrop(224),\n",
        "    transforms.ToTensor(),\n",
        "    transforms.Normalize([0.485, 0.456, 0.406], [0.229, 0.224, 0.225])\n",
        "])\n",
        "\n",
        "train_dataset = datasets.ImageFolder(data_train, transform=train_transforms)\n",
        "val_dataset = datasets.ImageFolder(data_val, transform=val_transforms)\n",
        "test_dataset = datasets.ImageFolder(data_test, transform=val_transforms)\n",
        "\n",
        "train_loader = DataLoader(train_dataset, batch_size=32, shuffle=True)\n",
        "val_loader = DataLoader(val_dataset, batch_size=32, shuffle=False)\n",
        "test_loader = DataLoader(test_dataset, batch_size=32, shuffle=True)"
      ]
    },
    {
      "cell_type": "code",
      "execution_count": 5,
      "metadata": {
        "id": "rCSjkaeGmUza",
        "colab": {
          "base_uri": "https://localhost:8080/"
        },
        "outputId": "a0667bf9-3535-4ee9-c736-c77737e64857"
      },
      "outputs": [
        {
          "output_type": "stream",
          "name": "stderr",
          "text": [
            "/usr/local/lib/python3.10/dist-packages/torchvision/models/_utils.py:208: UserWarning: The parameter 'pretrained' is deprecated since 0.13 and may be removed in the future, please use 'weights' instead.\n",
            "  warnings.warn(\n",
            "/usr/local/lib/python3.10/dist-packages/torchvision/models/_utils.py:223: UserWarning: Arguments other than a weight enum or `None` for 'weights' are deprecated since 0.13 and may be removed in the future. The current behavior is equivalent to passing `weights=EfficientNet_B0_Weights.IMAGENET1K_V1`. You can also use `weights=EfficientNet_B0_Weights.DEFAULT` to get the most up-to-date weights.\n",
            "  warnings.warn(msg)\n"
          ]
        },
        {
          "output_type": "stream",
          "name": "stdout",
          "text": [
            "device: cuda:0\n"
          ]
        }
      ],
      "source": [
        "# Используем предобученную модель EfficientNet\n",
        "model = models.efficientnet_b0(pretrained=True)\n",
        "\n",
        "# Заменяем последний слой для нашей задачи\n",
        "num_ftrs = model.classifier[1].in_features\n",
        "model.classifier = nn.Sequential(\n",
        "    nn.Dropout(p=0.5),\n",
        "    nn.Linear(num_ftrs, len(train_dataset.classes))\n",
        ")\n",
        "\n",
        "# Используем GPU, если доступно\n",
        "device = torch.device(\"cuda:0\" if torch.cuda.is_available() else \"cpu\")\n",
        "print(f\"device: {device}\")\n",
        "model = model.to(device)"
      ]
    },
    {
      "cell_type": "code",
      "execution_count": 6,
      "metadata": {
        "id": "fL6eJFYXmXcf"
      },
      "outputs": [],
      "source": [
        "# Оптимизатор и scheduler\n",
        "optimizer = optim.Adam(model.parameters(), lr=0.001)\n",
        "scheduler = optim.lr_scheduler.StepLR(optimizer, step_size=7, gamma=0.1)\n",
        "criterion = nn.CrossEntropyLoss()\n",
        "\n",
        "# Функция обучения и валидации\n",
        "def train_model(model, dataloaders, criterion, optimizer, scheduler, num_epochs=25):\n",
        "    since = time.time()\n",
        "\n",
        "    best_model_wts = copy.deepcopy(model.state_dict())\n",
        "    best_acc = 0.0\n",
        "\n",
        "    for epoch in range(num_epochs):\n",
        "        print(f'Epoch {epoch}/{num_epochs - 1}')\n",
        "        print('-' * 10)\n",
        "\n",
        "        # Каждый epoch имеет этапы обучения и валидации\n",
        "        for phase in ['train', 'val']:\n",
        "            if phase == 'train':\n",
        "                model.train()\n",
        "            else:\n",
        "                model.eval()\n",
        "\n",
        "            running_loss = 0.0\n",
        "            running_corrects = 0\n",
        "\n",
        "            # Проходим по данным\n",
        "            for inputs, labels in dataloaders[phase]:\n",
        "                inputs = inputs.to(device)\n",
        "                labels = labels.to(device)\n",
        "\n",
        "                optimizer.zero_grad()\n",
        "\n",
        "                # Прямой проход\n",
        "                with torch.set_grad_enabled(phase == 'train'):\n",
        "                    outputs = model(inputs)\n",
        "                    _, preds = torch.max(outputs, 1)\n",
        "                    loss = criterion(outputs, labels)\n",
        "\n",
        "                    # Обратный проход и оптимизация только на обучающем этапе\n",
        "                    if phase == 'train':\n",
        "                        loss.backward()\n",
        "                        optimizer.step()\n",
        "\n",
        "                running_loss += loss.item() * inputs.size(0)\n",
        "                running_corrects += torch.sum(preds == labels.data)\n",
        "\n",
        "            if phase == 'train':\n",
        "                scheduler.step()\n",
        "\n",
        "            epoch_loss = running_loss / len(dataloaders[phase].dataset)\n",
        "            epoch_acc = running_corrects.double() / len(dataloaders[phase].dataset)\n",
        "\n",
        "            print(f'{phase} Loss: {epoch_loss:.4f} Acc: {epoch_acc:.4f}')\n",
        "\n",
        "            # Глубокое копирование модели\n",
        "            if phase == 'val' and epoch_acc > best_acc:\n",
        "                best_acc = epoch_acc\n",
        "                best_model_wts = copy.deepcopy(model.state_dict())\n",
        "\n",
        "        print()\n",
        "\n",
        "    time_elapsed = time.time() - since\n",
        "    print(f'Training complete in {time_elapsed // 60:.0f}m {time_elapsed % 60:.0f}s')\n",
        "    print(f'Best val Acc: {best_acc:4f}')\n",
        "\n",
        "    # Загружаем лучшие веса модели\n",
        "    model.load_state_dict(best_model_wts)\n",
        "    return model"
      ]
    },
    {
      "cell_type": "code",
      "execution_count": 7,
      "metadata": {
        "colab": {
          "base_uri": "https://localhost:8080/"
        },
        "id": "Yd12R_rLnJIu",
        "outputId": "fdcae55a-1f84-4e92-bb54-2d28414e7c00"
      },
      "outputs": [
        {
          "output_type": "stream",
          "name": "stdout",
          "text": [
            "Epoch 0/24\n",
            "----------\n",
            "train Loss: 2.9809 Acc: 0.2843\n",
            "val Loss: 2.3901 Acc: 0.3922\n",
            "\n",
            "Epoch 1/24\n",
            "----------\n",
            "train Loss: 2.5122 Acc: 0.3837\n",
            "val Loss: 1.9833 Acc: 0.5194\n",
            "\n",
            "Epoch 2/24\n",
            "----------\n",
            "train Loss: 2.2006 Acc: 0.4494\n",
            "val Loss: 1.7555 Acc: 0.5690\n",
            "\n",
            "Epoch 3/24\n",
            "----------\n",
            "train Loss: 2.0293 Acc: 0.5014\n",
            "val Loss: 1.6278 Acc: 0.6171\n",
            "\n",
            "Epoch 4/24\n",
            "----------\n",
            "train Loss: 1.8772 Acc: 0.5334\n",
            "val Loss: 1.4295 Acc: 0.6651\n",
            "\n",
            "Epoch 5/24\n",
            "----------\n",
            "train Loss: 1.7893 Acc: 0.5491\n",
            "val Loss: 1.2651 Acc: 0.6760\n",
            "\n",
            "Epoch 6/24\n",
            "----------\n",
            "train Loss: 1.6242 Acc: 0.5839\n",
            "val Loss: 1.2598 Acc: 0.6853\n",
            "\n",
            "Epoch 7/24\n",
            "----------\n",
            "train Loss: 1.4216 Acc: 0.6347\n",
            "val Loss: 1.0767 Acc: 0.7225\n",
            "\n",
            "Epoch 8/24\n",
            "----------\n",
            "train Loss: 1.2985 Acc: 0.6656\n",
            "val Loss: 1.0254 Acc: 0.7225\n",
            "\n",
            "Epoch 9/24\n",
            "----------\n",
            "train Loss: 1.2304 Acc: 0.6891\n",
            "val Loss: 1.0175 Acc: 0.7380\n",
            "\n",
            "Epoch 10/24\n",
            "----------\n",
            "train Loss: 1.2002 Acc: 0.6848\n",
            "val Loss: 1.0067 Acc: 0.7566\n",
            "\n",
            "Epoch 11/24\n",
            "----------\n",
            "train Loss: 1.1820 Acc: 0.6887\n",
            "val Loss: 0.9795 Acc: 0.7504\n",
            "\n",
            "Epoch 12/24\n",
            "----------\n",
            "train Loss: 1.1750 Acc: 0.7004\n",
            "val Loss: 0.9699 Acc: 0.7504\n",
            "\n",
            "Epoch 13/24\n",
            "----------\n",
            "train Loss: 1.1206 Acc: 0.7067\n",
            "val Loss: 0.9453 Acc: 0.7628\n",
            "\n",
            "Epoch 14/24\n",
            "----------\n",
            "train Loss: 1.0833 Acc: 0.7157\n",
            "val Loss: 0.9488 Acc: 0.7721\n",
            "\n",
            "Epoch 15/24\n",
            "----------\n",
            "train Loss: 1.0534 Acc: 0.7286\n",
            "val Loss: 0.9337 Acc: 0.7643\n",
            "\n",
            "Epoch 16/24\n",
            "----------\n",
            "train Loss: 1.0812 Acc: 0.7118\n",
            "val Loss: 0.9483 Acc: 0.7628\n",
            "\n",
            "Epoch 17/24\n",
            "----------\n",
            "train Loss: 1.0518 Acc: 0.7215\n",
            "val Loss: 0.9376 Acc: 0.7705\n",
            "\n",
            "Epoch 18/24\n",
            "----------\n",
            "train Loss: 1.0341 Acc: 0.7290\n",
            "val Loss: 0.9397 Acc: 0.7659\n",
            "\n",
            "Epoch 19/24\n",
            "----------\n",
            "train Loss: 1.0659 Acc: 0.7208\n",
            "val Loss: 0.9400 Acc: 0.7736\n",
            "\n",
            "Epoch 20/24\n",
            "----------\n",
            "train Loss: 1.0226 Acc: 0.7337\n",
            "val Loss: 0.9293 Acc: 0.7690\n",
            "\n",
            "Epoch 21/24\n",
            "----------\n",
            "train Loss: 1.1002 Acc: 0.7086\n",
            "val Loss: 0.9346 Acc: 0.7643\n",
            "\n",
            "Epoch 22/24\n",
            "----------\n",
            "train Loss: 1.0333 Acc: 0.7380\n",
            "val Loss: 0.9227 Acc: 0.7612\n",
            "\n",
            "Epoch 23/24\n",
            "----------\n",
            "train Loss: 1.0480 Acc: 0.7376\n",
            "val Loss: 0.9286 Acc: 0.7659\n",
            "\n",
            "Epoch 24/24\n",
            "----------\n",
            "train Loss: 1.0776 Acc: 0.7282\n",
            "val Loss: 0.9274 Acc: 0.7659\n",
            "\n",
            "Training complete in 49m 26s\n",
            "Best val Acc: 0.773643\n",
            "CPU times: user 41min 33s, sys: 24.5 s, total: 41min 57s\n",
            "Wall time: 49min 26s\n"
          ]
        }
      ],
      "source": [
        "%%time\n",
        "# Создаем словарь с dataloaders\n",
        "dataloaders = {'train': train_loader, 'val': val_loader}\n",
        "\n",
        "# Обучаем модель\n",
        "model = train_model(model, dataloaders, criterion, optimizer, scheduler, num_epochs=25)"
      ]
    },
    {
      "cell_type": "code",
      "source": [
        "def test_input(model, test_loader):\n",
        "  model.eval()\n",
        "  running_loss = 0.0\n",
        "  running_corrects = 0\n",
        "  cnt = 0\n",
        "  # Проходим по данным\n",
        "  for inputs, labels in test_loader:\n",
        "      inputs = inputs.to(device)\n",
        "      labels = labels.to(device)\n",
        "\n",
        "      outputs = model(inputs)\n",
        "      _, preds = torch.max(outputs, 1)\n",
        "      loss = criterion(outputs, labels)\n",
        "\n",
        "      running_loss += loss.item() * inputs.size(0)\n",
        "      running_corrects += torch.sum(preds == labels.data)\n",
        "      print(cnt)\n",
        "      cnt += 1\n",
        "\n",
        "  epoch_loss = running_loss / len(test_loader.dataset)\n",
        "  epoch_acc = running_corrects.double() / len(test_loader.dataset)\n",
        "  print(f\"Loss {epoch_loss}, Accuracy {epoch_acc}\")\n",
        "  return (epoch_loss, epoch_acc)"
      ],
      "metadata": {
        "id": "-vcxLcClZSXU"
      },
      "execution_count": 13,
      "outputs": []
    },
    {
      "cell_type": "code",
      "source": [
        "test_input(model, val_loader)"
      ],
      "metadata": {
        "colab": {
          "base_uri": "https://localhost:8080/"
        },
        "id": "iscg3vqJo1bs",
        "outputId": "b99b72cb-6c46-4841-e9b8-537d186a725e"
      },
      "execution_count": 14,
      "outputs": [
        {
          "output_type": "stream",
          "name": "stdout",
          "text": [
            "0\n",
            "1\n",
            "2\n",
            "3\n",
            "4\n",
            "5\n",
            "6\n",
            "7\n",
            "8\n",
            "9\n",
            "10\n",
            "11\n",
            "12\n",
            "13\n",
            "14\n",
            "15\n",
            "16\n",
            "17\n",
            "18\n",
            "19\n",
            "20\n",
            "21\n",
            "22\n",
            "23\n",
            "24\n",
            "Loss 0.8035155786889068, Accuracy 0.7922403003754693\n"
          ]
        },
        {
          "output_type": "execute_result",
          "data": {
            "text/plain": [
              "(0.8035155786889068, tensor(0.7922, device='cuda:0', dtype=torch.float64))"
            ]
          },
          "metadata": {},
          "execution_count": 14
        }
      ]
    },
    {
      "cell_type": "code",
      "source": [
        "torch.save(model, 'eff_net_sneakers.pth')"
      ],
      "metadata": {
        "id": "xHnLWUULrqbb"
      },
      "execution_count": 15,
      "outputs": []
    }
  ],
  "metadata": {
    "colab": {
      "provenance": [],
      "machine_shape": "hm",
      "gpuType": "T4"
    },
    "kernelspec": {
      "display_name": "Python 3",
      "name": "python3"
    },
    "language_info": {
      "name": "python"
    },
    "accelerator": "GPU"
  },
  "nbformat": 4,
  "nbformat_minor": 0
}